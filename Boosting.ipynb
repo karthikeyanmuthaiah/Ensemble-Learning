{
 "cells": [
  {
   "cell_type": "code",
   "execution_count": null,
   "metadata": {},
   "outputs": [],
   "source": []
  },
  {
   "cell_type": "code",
   "execution_count": 1,
   "metadata": {},
   "outputs": [
    {
     "name": "stdout",
     "output_type": "stream",
     "text": [
      "E:\\karthi_m\\wind\n"
     ]
    }
   ],
   "source": [
    "cd E:\\karthi_m\\wind"
   ]
  },
  {
   "cell_type": "code",
   "execution_count": 2,
   "metadata": {},
   "outputs": [],
   "source": [
    "import pandas as pd"
   ]
  },
  {
   "cell_type": "code",
   "execution_count": 3,
   "metadata": {},
   "outputs": [],
   "source": [
    "da=pd.read_csv('data1.csv')"
   ]
  },
  {
   "cell_type": "code",
   "execution_count": 4,
   "metadata": {},
   "outputs": [
    {
     "data": {
      "text/html": [
       "<div>\n",
       "<style scoped>\n",
       "    .dataframe tbody tr th:only-of-type {\n",
       "        vertical-align: middle;\n",
       "    }\n",
       "\n",
       "    .dataframe tbody tr th {\n",
       "        vertical-align: top;\n",
       "    }\n",
       "\n",
       "    .dataframe thead th {\n",
       "        text-align: right;\n",
       "    }\n",
       "</style>\n",
       "<table border=\"1\" class=\"dataframe\">\n",
       "  <thead>\n",
       "    <tr style=\"text-align: right;\">\n",
       "      <th></th>\n",
       "      <th>windspeed</th>\n",
       "      <th>airdensity</th>\n",
       "      <th>amb_temp</th>\n",
       "      <th>nac_direction</th>\n",
       "      <th>blds_pitchangle</th>\n",
       "      <th>rtr_rpm</th>\n",
       "      <th>gen_rpm</th>\n",
       "      <th>wtg_state</th>\n",
       "    </tr>\n",
       "  </thead>\n",
       "  <tbody>\n",
       "    <tr>\n",
       "      <th>0</th>\n",
       "      <td>9.1</td>\n",
       "      <td>1.162127</td>\n",
       "      <td>27</td>\n",
       "      <td>61.8</td>\n",
       "      <td>(-2,-4)</td>\n",
       "      <td>14.1</td>\n",
       "      <td>1305.0</td>\n",
       "      <td>ok</td>\n",
       "    </tr>\n",
       "    <tr>\n",
       "      <th>1</th>\n",
       "      <td>9.6</td>\n",
       "      <td>1.162127</td>\n",
       "      <td>27</td>\n",
       "      <td>61.8</td>\n",
       "      <td>(-2,-4)</td>\n",
       "      <td>14.4</td>\n",
       "      <td>1336.0</td>\n",
       "      <td>ok</td>\n",
       "    </tr>\n",
       "    <tr>\n",
       "      <th>2</th>\n",
       "      <td>9.6</td>\n",
       "      <td>1.162127</td>\n",
       "      <td>27</td>\n",
       "      <td>61.8</td>\n",
       "      <td>(-2,-4)</td>\n",
       "      <td>14.4</td>\n",
       "      <td>1330.0</td>\n",
       "      <td>ok</td>\n",
       "    </tr>\n",
       "    <tr>\n",
       "      <th>3</th>\n",
       "      <td>11.2</td>\n",
       "      <td>1.162127</td>\n",
       "      <td>27</td>\n",
       "      <td>65.2</td>\n",
       "      <td>(-0.1,-1.9)</td>\n",
       "      <td>14.5</td>\n",
       "      <td>1345.0</td>\n",
       "      <td>ok</td>\n",
       "    </tr>\n",
       "    <tr>\n",
       "      <th>4</th>\n",
       "      <td>11.4</td>\n",
       "      <td>1.162127</td>\n",
       "      <td>27</td>\n",
       "      <td>66.6</td>\n",
       "      <td>(-0.1,-1.9)</td>\n",
       "      <td>14.5</td>\n",
       "      <td>1344.0</td>\n",
       "      <td>ok</td>\n",
       "    </tr>\n",
       "  </tbody>\n",
       "</table>\n",
       "</div>"
      ],
      "text/plain": [
       "   windspeed  airdensity  amb_temp  nac_direction blds_pitchangle  rtr_rpm  \\\n",
       "0        9.1    1.162127        27           61.8         (-2,-4)     14.1   \n",
       "1        9.6    1.162127        27           61.8         (-2,-4)     14.4   \n",
       "2        9.6    1.162127        27           61.8         (-2,-4)     14.4   \n",
       "3       11.2    1.162127        27           65.2     (-0.1,-1.9)     14.5   \n",
       "4       11.4    1.162127        27           66.6     (-0.1,-1.9)     14.5   \n",
       "\n",
       "   gen_rpm wtg_state  \n",
       "0   1305.0        ok  \n",
       "1   1336.0        ok  \n",
       "2   1330.0        ok  \n",
       "3   1345.0        ok  \n",
       "4   1344.0        ok  "
      ]
     },
     "execution_count": 4,
     "metadata": {},
     "output_type": "execute_result"
    }
   ],
   "source": [
    "da.head()"
   ]
  },
  {
   "cell_type": "code",
   "execution_count": null,
   "metadata": {},
   "outputs": [],
   "source": []
  },
  {
   "cell_type": "code",
   "execution_count": 5,
   "metadata": {},
   "outputs": [],
   "source": [
    "from sklearn.model_selection import cross_val_score\n",
    "from sklearn.preprocessing import LabelEncoder"
   ]
  },
  {
   "cell_type": "code",
   "execution_count": 6,
   "metadata": {},
   "outputs": [
    {
     "data": {
      "text/html": [
       "<div>\n",
       "<style scoped>\n",
       "    .dataframe tbody tr th:only-of-type {\n",
       "        vertical-align: middle;\n",
       "    }\n",
       "\n",
       "    .dataframe tbody tr th {\n",
       "        vertical-align: top;\n",
       "    }\n",
       "\n",
       "    .dataframe thead th {\n",
       "        text-align: right;\n",
       "    }\n",
       "</style>\n",
       "<table border=\"1\" class=\"dataframe\">\n",
       "  <thead>\n",
       "    <tr style=\"text-align: right;\">\n",
       "      <th></th>\n",
       "      <th>windspeed</th>\n",
       "      <th>airdensity</th>\n",
       "      <th>amb_temp</th>\n",
       "      <th>nac_direction</th>\n",
       "      <th>blds_pitchangle</th>\n",
       "      <th>rtr_rpm</th>\n",
       "      <th>gen_rpm</th>\n",
       "      <th>wtg_state</th>\n",
       "    </tr>\n",
       "  </thead>\n",
       "  <tbody>\n",
       "    <tr>\n",
       "      <th>0</th>\n",
       "      <td>90</td>\n",
       "      <td>8</td>\n",
       "      <td>6</td>\n",
       "      <td>568</td>\n",
       "      <td>1</td>\n",
       "      <td>141</td>\n",
       "      <td>2805</td>\n",
       "      <td>3</td>\n",
       "    </tr>\n",
       "    <tr>\n",
       "      <th>1</th>\n",
       "      <td>95</td>\n",
       "      <td>8</td>\n",
       "      <td>6</td>\n",
       "      <td>568</td>\n",
       "      <td>1</td>\n",
       "      <td>144</td>\n",
       "      <td>3036</td>\n",
       "      <td>3</td>\n",
       "    </tr>\n",
       "    <tr>\n",
       "      <th>2</th>\n",
       "      <td>95</td>\n",
       "      <td>8</td>\n",
       "      <td>6</td>\n",
       "      <td>568</td>\n",
       "      <td>1</td>\n",
       "      <td>144</td>\n",
       "      <td>2982</td>\n",
       "      <td>3</td>\n",
       "    </tr>\n",
       "    <tr>\n",
       "      <th>3</th>\n",
       "      <td>111</td>\n",
       "      <td>8</td>\n",
       "      <td>6</td>\n",
       "      <td>602</td>\n",
       "      <td>0</td>\n",
       "      <td>145</td>\n",
       "      <td>3124</td>\n",
       "      <td>3</td>\n",
       "    </tr>\n",
       "    <tr>\n",
       "      <th>4</th>\n",
       "      <td>113</td>\n",
       "      <td>8</td>\n",
       "      <td>6</td>\n",
       "      <td>616</td>\n",
       "      <td>0</td>\n",
       "      <td>145</td>\n",
       "      <td>3114</td>\n",
       "      <td>3</td>\n",
       "    </tr>\n",
       "  </tbody>\n",
       "</table>\n",
       "</div>"
      ],
      "text/plain": [
       "   windspeed  airdensity  amb_temp  nac_direction  blds_pitchangle  rtr_rpm  \\\n",
       "0         90           8         6            568                1      141   \n",
       "1         95           8         6            568                1      144   \n",
       "2         95           8         6            568                1      144   \n",
       "3        111           8         6            602                0      145   \n",
       "4        113           8         6            616                0      145   \n",
       "\n",
       "   gen_rpm  wtg_state  \n",
       "0     2805          3  \n",
       "1     3036          3  \n",
       "2     2982          3  \n",
       "3     3124          3  \n",
       "4     3114          3  "
      ]
     },
     "execution_count": 6,
     "metadata": {},
     "output_type": "execute_result"
    }
   ],
   "source": [
    "y_ = da.apply(LabelEncoder().fit_transform)\n",
    "y_.head()"
   ]
  },
  {
   "cell_type": "code",
   "execution_count": 7,
   "metadata": {},
   "outputs": [],
   "source": [
    "x= y_.drop(['wtg_state'],axis=1)\n",
    "y= y_['wtg_state']"
   ]
  },
  {
   "cell_type": "code",
   "execution_count": null,
   "metadata": {},
   "outputs": [],
   "source": []
  },
  {
   "cell_type": "code",
   "execution_count": 8,
   "metadata": {},
   "outputs": [],
   "source": [
    "from sklearn.model_selection import train_test_split\n",
    "X_train,X_test,y_train,y_test = train_test_split(x,y,test_size=0.25)"
   ]
  },
  {
   "cell_type": "code",
   "execution_count": null,
   "metadata": {},
   "outputs": [],
   "source": []
  },
  {
   "cell_type": "code",
   "execution_count": 9,
   "metadata": {},
   "outputs": [],
   "source": [
    "from sklearn.model_selection import cross_val_score, cross_val_predict\n",
    "from sklearn.metrics import accuracy_score, classification_report, confusion_matrix"
   ]
  },
  {
   "cell_type": "code",
   "execution_count": 29,
   "metadata": {},
   "outputs": [],
   "source": [
    "from sklearn.ensemble import AdaBoostClassifier"
   ]
  },
  {
   "cell_type": "code",
   "execution_count": 30,
   "metadata": {},
   "outputs": [],
   "source": [
    "ada_clf = AdaBoostClassifier()"
   ]
  },
  {
   "cell_type": "code",
   "execution_count": 31,
   "metadata": {},
   "outputs": [
    {
     "data": {
      "text/plain": [
       "AdaBoostClassifier()"
      ]
     },
     "execution_count": 31,
     "metadata": {},
     "output_type": "execute_result"
    }
   ],
   "source": [
    "ada_clf.fit(X_train, y_train)"
   ]
  },
  {
   "cell_type": "code",
   "execution_count": 10,
   "metadata": {},
   "outputs": [],
   "source": [
    "def print_score(clf, X_train, y_train, X_test, y_test, train=True):\n",
    "    if train:\n",
    "        print(\"Train Result:\\n\")\n",
    "        print(\"accuracy score: {0:.4f}\\n\".format(accuracy_score(y_train, clf.predict(X_train))))\n",
    "        print(\"Classification Report: \\n {}\\n\".format(classification_report(y_train, clf.predict(X_train))))\n",
    "        print(\"Confusion Matrix: \\n {}\\n\".format(confusion_matrix(y_train, clf.predict(X_train))))\n",
    "\n",
    "        res = cross_val_score(clf, X_train, y_train, cv=10, scoring='accuracy')\n",
    "        print(\"Average Accuracy: \\t {0:.4f}\".format(np.mean(res)))\n",
    "        print(\"Accuracy SD: \\t\\t {0:.4f}\".format(np.std(res)))\n",
    "        \n",
    "    elif train==False:\n",
    "        print(\"Test Result:\\n\")        \n",
    "        print(\"accuracy score: {0:.4f}\\n\".format(accuracy_score(y_test, clf.predict(X_test))))\n",
    "        print(\"Classification Report: \\n {}\\n\".format(classification_report(y_test, clf.predict(X_test))))\n",
    "        print(\"Confusion Matrix: \\n {}\\n\".format(confusion_matrix(y_test, clf.predict(X_test))))"
   ]
  },
  {
   "cell_type": "code",
   "execution_count": 32,
   "metadata": {},
   "outputs": [
    {
     "name": "stdout",
     "output_type": "stream",
     "text": [
      "Train Result:\n",
      "\n",
      "accuracy score: 0.9032\n",
      "\n",
      "Classification Report: \n",
      "               precision    recall  f1-score   support\n",
      "\n",
      "           0       0.93      0.47      0.63      2926\n",
      "           1       0.64      0.20      0.30      3129\n",
      "           2       1.00      0.14      0.25        21\n",
      "           3       0.89      0.99      0.94     33002\n",
      "           4       1.00      1.00      1.00      6513\n",
      "\n",
      "    accuracy                           0.90     45591\n",
      "   macro avg       0.89      0.56      0.62     45591\n",
      "weighted avg       0.89      0.90      0.88     45591\n",
      "\n",
      "\n",
      "Confusion Matrix: \n",
      " [[ 1387    15     0  1524     0]\n",
      " [   66   619     0  2444     0]\n",
      " [   18     0     3     0     0]\n",
      " [   16   328     0 32658     0]\n",
      " [    0     0     0     0  6513]]\n",
      "\n",
      "Average Accuracy: \t 0.7365\n",
      "Accuracy SD: \t\t 0.1703\n"
     ]
    }
   ],
   "source": [
    "print_score(ada_clf, X_train, y_train, X_test, y_test, train=True)"
   ]
  },
  {
   "cell_type": "code",
   "execution_count": 33,
   "metadata": {},
   "outputs": [
    {
     "name": "stdout",
     "output_type": "stream",
     "text": [
      "Test Result:\n",
      "\n",
      "accuracy score: 0.9029\n",
      "\n"
     ]
    },
    {
     "name": "stderr",
     "output_type": "stream",
     "text": [
      "C:\\ProgramData\\Anaconda3\\lib\\site-packages\\sklearn\\metrics\\_classification.py:1221: UndefinedMetricWarning: Precision and F-score are ill-defined and being set to 0.0 in labels with no predicted samples. Use `zero_division` parameter to control this behavior.\n",
      "  _warn_prf(average, modifier, msg_start, len(result))\n"
     ]
    },
    {
     "name": "stdout",
     "output_type": "stream",
     "text": [
      "Classification Report: \n",
      "               precision    recall  f1-score   support\n",
      "\n",
      "           0       0.92      0.49      0.64       970\n",
      "           1       0.63      0.20      0.31      1057\n",
      "           2       0.00      0.00      0.00         8\n",
      "           3       0.89      0.99      0.94     11018\n",
      "           4       1.00      1.00      1.00      2145\n",
      "\n",
      "    accuracy                           0.90     15198\n",
      "   macro avg       0.69      0.54      0.58     15198\n",
      "weighted avg       0.89      0.90      0.88     15198\n",
      "\n",
      "\n",
      "Confusion Matrix: \n",
      " [[  476     4     0   490     0]\n",
      " [   24   215     0   818     0]\n",
      " [    8     0     0     0     0]\n",
      " [    9   123     0 10886     0]\n",
      " [    0     0     0     0  2145]]\n",
      "\n"
     ]
    }
   ],
   "source": [
    "print_score(ada_clf, X_train, y_train, X_test, y_test, train=False)"
   ]
  },
  {
   "cell_type": "code",
   "execution_count": null,
   "metadata": {},
   "outputs": [],
   "source": []
  },
  {
   "cell_type": "code",
   "execution_count": null,
   "metadata": {},
   "outputs": [],
   "source": []
  },
  {
   "cell_type": "code",
   "execution_count": 20,
   "metadata": {},
   "outputs": [],
   "source": [
    "from sklearn.ensemble import RandomForestClassifier"
   ]
  },
  {
   "cell_type": "code",
   "execution_count": 11,
   "metadata": {},
   "outputs": [],
   "source": [
    "from sklearn.ensemble import AdaBoostClassifier\n",
    "ada_clf = AdaBoostClassifier(RandomForestClassifier())"
   ]
  },
  {
   "cell_type": "code",
   "execution_count": 12,
   "metadata": {},
   "outputs": [
    {
     "data": {
      "text/plain": [
       "AdaBoostClassifier(base_estimator=RandomForestClassifier())"
      ]
     },
     "execution_count": 12,
     "metadata": {},
     "output_type": "execute_result"
    }
   ],
   "source": [
    "ada_clf.fit(X_train, y_train)"
   ]
  },
  {
   "cell_type": "code",
   "execution_count": 17,
   "metadata": {},
   "outputs": [],
   "source": [
    "\n",
    "from sklearn.model_selection import cross_val_score, cross_val_predict\n",
    "from sklearn.metrics import accuracy_score, classification_report, confusion_matrix"
   ]
  },
  {
   "cell_type": "code",
   "execution_count": 18,
   "metadata": {},
   "outputs": [],
   "source": []
  },
  {
   "cell_type": "code",
   "execution_count": null,
   "metadata": {},
   "outputs": [
    {
     "name": "stdout",
     "output_type": "stream",
     "text": [
      "Train Result:\n",
      "\n",
      "accuracy score: 0.9191\n",
      "\n",
      "Classification Report: \n",
      "               precision    recall  f1-score   support\n",
      "\n",
      "           0       1.00      0.55      0.71      2926\n",
      "           1       1.00      0.25      0.40      3129\n",
      "           2       1.00      0.71      0.83        21\n",
      "           3       0.90      1.00      0.95     33002\n",
      "           4       1.00      1.00      1.00      6513\n",
      "\n",
      "    accuracy                           0.92     45591\n",
      "   macro avg       0.98      0.70      0.78     45591\n",
      "weighted avg       0.93      0.92      0.90     45591\n",
      "\n",
      "\n",
      "Confusion Matrix: \n",
      " [[ 1611     0     0  1315     0]\n",
      " [    0   773     0  2356     0]\n",
      " [    0     0    15     6     0]\n",
      " [    0     0     0 33002     0]\n",
      " [    0     0     0    10  6503]]\n",
      "\n"
     ]
    }
   ],
   "source": [
    "print_score(ada_clf, X_train, y_train, X_test, y_test, train=True)"
   ]
  },
  {
   "cell_type": "code",
   "execution_count": 21,
   "metadata": {},
   "outputs": [
    {
     "name": "stdout",
     "output_type": "stream",
     "text": [
      "Test Result:\n",
      "\n",
      "accuracy score: 0.9047\n",
      "\n",
      "Classification Report: \n",
      "               precision    recall  f1-score   support\n",
      "\n",
      "           0       0.98      0.47      0.64       970\n",
      "           1       0.97      0.13      0.23      1057\n",
      "           2       1.00      0.25      0.40         8\n",
      "           3       0.88      1.00      0.94     11018\n",
      "           4       1.00      1.00      1.00      2145\n",
      "\n",
      "    accuracy                           0.90     15198\n",
      "   macro avg       0.97      0.57      0.64     15198\n",
      "weighted avg       0.91      0.90      0.88     15198\n",
      "\n",
      "\n",
      "Confusion Matrix: \n",
      " [[  457     3     0   510     0]\n",
      " [    5   140     0   912     0]\n",
      " [    2     0     2     4     0]\n",
      " [    0     2     0 11016     0]\n",
      " [    0     0     0    10  2135]]\n",
      "\n"
     ]
    }
   ],
   "source": [
    "print_score(ada_clf, X_train, y_train, X_test, y_test, train=False)"
   ]
  },
  {
   "cell_type": "code",
   "execution_count": 22,
   "metadata": {},
   "outputs": [],
   "source": [
    "from sklearn.ensemble import GradientBoostingClassifier"
   ]
  },
  {
   "cell_type": "code",
   "execution_count": 23,
   "metadata": {},
   "outputs": [
    {
     "data": {
      "text/plain": [
       "GradientBoostingClassifier()"
      ]
     },
     "execution_count": 23,
     "metadata": {},
     "output_type": "execute_result"
    }
   ],
   "source": [
    "gbc_clf = GradientBoostingClassifier()\n",
    "gbc_clf.fit(X_train, y_train)"
   ]
  },
  {
   "cell_type": "code",
   "execution_count": 25,
   "metadata": {},
   "outputs": [],
   "source": [
    "import numpy as np"
   ]
  },
  {
   "cell_type": "code",
   "execution_count": 26,
   "metadata": {},
   "outputs": [
    {
     "name": "stdout",
     "output_type": "stream",
     "text": [
      "Train Result:\n",
      "\n",
      "accuracy score: 0.9407\n",
      "\n",
      "Classification Report: \n",
      "               precision    recall  f1-score   support\n",
      "\n",
      "           0       0.92      0.71      0.80      2926\n",
      "           1       0.79      0.56      0.66      3129\n",
      "           2       0.92      0.52      0.67        21\n",
      "           3       0.94      0.99      0.96     33002\n",
      "           4       1.00      1.00      1.00      6513\n",
      "\n",
      "    accuracy                           0.94     45591\n",
      "   macro avg       0.91      0.76      0.82     45591\n",
      "weighted avg       0.94      0.94      0.94     45591\n",
      "\n",
      "\n",
      "Confusion Matrix: \n",
      " [[ 2075    84     0   767     0]\n",
      " [   88  1755     0  1286     0]\n",
      " [    7     2    11     1     0]\n",
      " [   90   377     1 32534     0]\n",
      " [    0     0     0     0  6513]]\n",
      "\n",
      "Average Accuracy: \t 0.9384\n",
      "Accuracy SD: \t\t 0.0029\n"
     ]
    }
   ],
   "source": [
    "print_score(gbc_clf, X_train, y_train, X_test, y_test, train=True)"
   ]
  },
  {
   "cell_type": "code",
   "execution_count": 27,
   "metadata": {},
   "outputs": [
    {
     "name": "stdout",
     "output_type": "stream",
     "text": [
      "Test Result:\n",
      "\n",
      "accuracy score: 0.9389\n",
      "\n",
      "Classification Report: \n",
      "               precision    recall  f1-score   support\n",
      "\n",
      "           0       0.93      0.70      0.80       970\n",
      "           1       0.79      0.55      0.65      1057\n",
      "           2       0.75      0.38      0.50         8\n",
      "           3       0.94      0.99      0.96     11018\n",
      "           4       1.00      1.00      1.00      2145\n",
      "\n",
      "    accuracy                           0.94     15198\n",
      "   macro avg       0.88      0.72      0.78     15198\n",
      "weighted avg       0.94      0.94      0.93     15198\n",
      "\n",
      "\n",
      "Confusion Matrix: \n",
      " [[  679    25     0   266     0]\n",
      " [   20   584     1   452     0]\n",
      " [    3     1     3     1     0]\n",
      " [   28   131     0 10859     0]\n",
      " [    0     0     0     0  2145]]\n",
      "\n"
     ]
    }
   ],
   "source": [
    "print_score(gbc_clf, X_train, y_train, X_test, y_test, train=False) "
   ]
  },
  {
   "cell_type": "code",
   "execution_count": 15,
   "metadata": {},
   "outputs": [],
   "source": [
    "import numpy as np"
   ]
  },
  {
   "cell_type": "code",
   "execution_count": 11,
   "metadata": {},
   "outputs": [],
   "source": [
    "import xgboost as xgb"
   ]
  },
  {
   "cell_type": "code",
   "execution_count": 12,
   "metadata": {},
   "outputs": [],
   "source": [
    "xgb_clf = xgb.XGBClassifier()"
   ]
  },
  {
   "cell_type": "code",
   "execution_count": 13,
   "metadata": {},
   "outputs": [
    {
     "name": "stderr",
     "output_type": "stream",
     "text": [
      "C:\\ProgramData\\Anaconda3\\lib\\site-packages\\xgboost\\sklearn.py:888: UserWarning: The use of label encoder in XGBClassifier is deprecated and will be removed in a future release. To remove this warning, do the following: 1) Pass option use_label_encoder=False when constructing XGBClassifier object; and 2) Encode your labels (y) as integers starting with 0, i.e. 0, 1, 2, ..., [num_class - 1].\n",
      "  warnings.warn(label_encoder_deprecation_msg, UserWarning)\n"
     ]
    },
    {
     "name": "stdout",
     "output_type": "stream",
     "text": [
      "[17:50:39] WARNING: C:/Users/Administrator/workspace/xgboost-win64_release_1.3.0/src/learner.cc:1061: Starting in XGBoost 1.3.0, the default evaluation metric used with the objective 'multi:softprob' was changed from 'merror' to 'mlogloss'. Explicitly set eval_metric if you'd like to restore the old behavior.\n"
     ]
    },
    {
     "data": {
      "text/plain": [
       "XGBClassifier(base_score=0.5, booster='gbtree', colsample_bylevel=1,\n",
       "              colsample_bynode=1, colsample_bytree=1, gamma=0, gpu_id=-1,\n",
       "              importance_type='gain', interaction_constraints='',\n",
       "              learning_rate=0.300000012, max_delta_step=0, max_depth=6,\n",
       "              min_child_weight=1, missing=nan, monotone_constraints='()',\n",
       "              n_estimators=100, n_jobs=2, num_parallel_tree=1,\n",
       "              objective='multi:softprob', random_state=0, reg_alpha=0,\n",
       "              reg_lambda=1, scale_pos_weight=None, subsample=1,\n",
       "              tree_method='exact', validate_parameters=1, verbosity=None)"
      ]
     },
     "execution_count": 13,
     "metadata": {},
     "output_type": "execute_result"
    }
   ],
   "source": [
    "xgb_clf.fit(X_train, y_train)"
   ]
  },
  {
   "cell_type": "code",
   "execution_count": 16,
   "metadata": {},
   "outputs": [
    {
     "name": "stdout",
     "output_type": "stream",
     "text": [
      "Train Result:\n",
      "\n",
      "accuracy score: 0.9589\n",
      "\n",
      "Classification Report: \n",
      "               precision    recall  f1-score   support\n",
      "\n",
      "           0       0.98      0.80      0.88      2897\n",
      "           1       0.88      0.69      0.77      3145\n",
      "           2       1.00      1.00      1.00        25\n",
      "           3       0.96      0.99      0.97     33043\n",
      "           4       1.00      1.00      1.00      6481\n",
      "\n",
      "    accuracy                           0.96     45591\n",
      "   macro avg       0.96      0.90      0.93     45591\n",
      "weighted avg       0.96      0.96      0.96     45591\n",
      "\n",
      "\n",
      "Confusion Matrix: \n",
      " [[ 2327    20     0   550     0]\n",
      " [    8  2155     0   982     0]\n",
      " [    0     0    25     0     0]\n",
      " [   47   266     0 32730     0]\n",
      " [    0     0     0     0  6481]]\n",
      "\n",
      "[18:09:20] WARNING: C:/Users/Administrator/workspace/xgboost-win64_release_1.3.0/src/learner.cc:1061: Starting in XGBoost 1.3.0, the default evaluation metric used with the objective 'multi:softprob' was changed from 'merror' to 'mlogloss'. Explicitly set eval_metric if you'd like to restore the old behavior.\n"
     ]
    },
    {
     "name": "stderr",
     "output_type": "stream",
     "text": [
      "C:\\ProgramData\\Anaconda3\\lib\\site-packages\\xgboost\\sklearn.py:888: UserWarning: The use of label encoder in XGBClassifier is deprecated and will be removed in a future release. To remove this warning, do the following: 1) Pass option use_label_encoder=False when constructing XGBClassifier object; and 2) Encode your labels (y) as integers starting with 0, i.e. 0, 1, 2, ..., [num_class - 1].\n",
      "  warnings.warn(label_encoder_deprecation_msg, UserWarning)\n"
     ]
    },
    {
     "name": "stdout",
     "output_type": "stream",
     "text": [
      "[18:09:34] WARNING: C:/Users/Administrator/workspace/xgboost-win64_release_1.3.0/src/learner.cc:1061: Starting in XGBoost 1.3.0, the default evaluation metric used with the objective 'multi:softprob' was changed from 'merror' to 'mlogloss'. Explicitly set eval_metric if you'd like to restore the old behavior.\n",
      "[18:09:47] WARNING: C:/Users/Administrator/workspace/xgboost-win64_release_1.3.0/src/learner.cc:1061: Starting in XGBoost 1.3.0, the default evaluation metric used with the objective 'multi:softprob' was changed from 'merror' to 'mlogloss'. Explicitly set eval_metric if you'd like to restore the old behavior.\n",
      "[18:09:57] WARNING: C:/Users/Administrator/workspace/xgboost-win64_release_1.3.0/src/learner.cc:1061: Starting in XGBoost 1.3.0, the default evaluation metric used with the objective 'multi:softprob' was changed from 'merror' to 'mlogloss'. Explicitly set eval_metric if you'd like to restore the old behavior.\n",
      "[18:10:06] WARNING: C:/Users/Administrator/workspace/xgboost-win64_release_1.3.0/src/learner.cc:1061: Starting in XGBoost 1.3.0, the default evaluation metric used with the objective 'multi:softprob' was changed from 'merror' to 'mlogloss'. Explicitly set eval_metric if you'd like to restore the old behavior.\n",
      "[18:10:14] WARNING: C:/Users/Administrator/workspace/xgboost-win64_release_1.3.0/src/learner.cc:1061: Starting in XGBoost 1.3.0, the default evaluation metric used with the objective 'multi:softprob' was changed from 'merror' to 'mlogloss'. Explicitly set eval_metric if you'd like to restore the old behavior.\n",
      "[18:10:24] WARNING: C:/Users/Administrator/workspace/xgboost-win64_release_1.3.0/src/learner.cc:1061: Starting in XGBoost 1.3.0, the default evaluation metric used with the objective 'multi:softprob' was changed from 'merror' to 'mlogloss'. Explicitly set eval_metric if you'd like to restore the old behavior.\n",
      "[18:10:33] WARNING: C:/Users/Administrator/workspace/xgboost-win64_release_1.3.0/src/learner.cc:1061: Starting in XGBoost 1.3.0, the default evaluation metric used with the objective 'multi:softprob' was changed from 'merror' to 'mlogloss'. Explicitly set eval_metric if you'd like to restore the old behavior.\n",
      "[18:10:42] WARNING: C:/Users/Administrator/workspace/xgboost-win64_release_1.3.0/src/learner.cc:1061: Starting in XGBoost 1.3.0, the default evaluation metric used with the objective 'multi:softprob' was changed from 'merror' to 'mlogloss'. Explicitly set eval_metric if you'd like to restore the old behavior.\n",
      "[18:10:51] WARNING: C:/Users/Administrator/workspace/xgboost-win64_release_1.3.0/src/learner.cc:1061: Starting in XGBoost 1.3.0, the default evaluation metric used with the objective 'multi:softprob' was changed from 'merror' to 'mlogloss'. Explicitly set eval_metric if you'd like to restore the old behavior.\n",
      "Average Accuracy: \t 0.9430\n",
      "Accuracy SD: \t\t 0.0031\n"
     ]
    }
   ],
   "source": [
    "print_score(xgb_clf, X_train, y_train, X_test, y_test, train=True)"
   ]
  },
  {
   "cell_type": "code",
   "execution_count": 17,
   "metadata": {},
   "outputs": [
    {
     "name": "stdout",
     "output_type": "stream",
     "text": [
      "Test Result:\n",
      "\n",
      "accuracy score: 0.9438\n",
      "\n",
      "Classification Report: \n",
      "               precision    recall  f1-score   support\n",
      "\n",
      "           0       0.91      0.76      0.83       999\n",
      "           1       0.79      0.59      0.68      1041\n",
      "           2       0.57      1.00      0.73         4\n",
      "           3       0.95      0.98      0.96     10977\n",
      "           4       1.00      1.00      1.00      2177\n",
      "\n",
      "    accuracy                           0.94     15198\n",
      "   macro avg       0.84      0.87      0.84     15198\n",
      "weighted avg       0.94      0.94      0.94     15198\n",
      "\n",
      "\n",
      "Confusion Matrix: \n",
      " [[  759    31     3   206     0]\n",
      " [   21   619     0   401     0]\n",
      " [    0     0     4     0     0]\n",
      " [   58   134     0 10785     0]\n",
      " [    0     0     0     0  2177]]\n",
      "\n"
     ]
    }
   ],
   "source": [
    "print_score(xgb_clf, X_train, y_train, X_test, y_test, train=False)"
   ]
  },
  {
   "cell_type": "code",
   "execution_count": null,
   "metadata": {},
   "outputs": [],
   "source": []
  }
 ],
 "metadata": {
  "kernelspec": {
   "display_name": "Python 3",
   "language": "python",
   "name": "python3"
  },
  "language_info": {
   "codemirror_mode": {
    "name": "ipython",
    "version": 3
   },
   "file_extension": ".py",
   "mimetype": "text/x-python",
   "name": "python",
   "nbconvert_exporter": "python",
   "pygments_lexer": "ipython3",
   "version": "3.8.3"
  }
 },
 "nbformat": 4,
 "nbformat_minor": 4
}
